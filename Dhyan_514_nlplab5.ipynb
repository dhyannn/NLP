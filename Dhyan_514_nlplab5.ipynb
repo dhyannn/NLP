{
  "nbformat": 4,
  "nbformat_minor": 0,
  "metadata": {
    "colab": {
      "provenance": [],
      "authorship_tag": "ABX9TyOlW6vIOFr1HK65JrH1TNYB",
      "include_colab_link": true
    },
    "kernelspec": {
      "name": "python3",
      "display_name": "Python 3"
    },
    "language_info": {
      "name": "python"
    }
  },
  "cells": [
    {
      "cell_type": "markdown",
      "metadata": {
        "id": "view-in-github",
        "colab_type": "text"
      },
      "source": [
        "<a href=\"https://colab.research.google.com/github/dhyannn/NLP/blob/main/Dhyan_514_nlplab5.ipynb\" target=\"_parent\"><img src=\"https://colab.research.google.com/assets/colab-badge.svg\" alt=\"Open In Colab\"/></a>"
      ]
    },
    {
      "cell_type": "code",
      "execution_count": null,
      "metadata": {
        "id": "KF6d7JEI8PBP"
      },
      "outputs": [],
      "source": []
    },
    {
      "cell_type": "markdown",
      "source": [
        "Write a program to get Antonyms from WordNet."
      ],
      "metadata": {
        "id": "wy41RKhA8z7B"
      }
    },
    {
      "cell_type": "code",
      "source": [
        "import nltk\n",
        "from nltk.corpus import wordnet\n",
        "\n",
        "nltk.download('wordnet')"
      ],
      "metadata": {
        "colab": {
          "base_uri": "https://localhost:8080/"
        },
        "id": "ysmNMC3481R2",
        "outputId": "30c658c4-b8f0-44b7-dce1-468e5d00fd0c"
      },
      "execution_count": 1,
      "outputs": [
        {
          "output_type": "stream",
          "name": "stderr",
          "text": [
            "[nltk_data] Downloading package wordnet to /root/nltk_data...\n"
          ]
        },
        {
          "output_type": "execute_result",
          "data": {
            "text/plain": [
              "True"
            ]
          },
          "metadata": {},
          "execution_count": 1
        }
      ]
    },
    {
      "cell_type": "code",
      "source": [
        "def get_antonyms(word):\n",
        "    antonyms = []\n",
        "\n",
        "    synsets = wordnet.synsets(word)\n",
        "\n",
        "    for synset in synsets:\n",
        "        for lemma in synset.lemmas():\n",
        "            for antonym in lemma.antonyms():\n",
        "                antonyms.append(antonym.name())\n",
        "\n",
        "    return antonyms\n",
        "\n",
        "if __name__ == \"__main__\":\n",
        "    word = input(\"Enter a word to find antonyms: \")\n",
        "    antonyms = get_antonyms(word)\n",
        "\n",
        "    if antonyms:\n",
        "        print(f\"Antonyms of '{word}':\")\n",
        "        print(\", \".join(set(antonyms)))\n",
        "    else:\n",
        "        print(f\"No antonyms found for '{word}'.\")"
      ],
      "metadata": {
        "colab": {
          "base_uri": "https://localhost:8080/"
        },
        "id": "b71hR6Pl81oT",
        "outputId": "f1bcecbe-4a4b-4d40-fe9d-a6c28b2ffc4f"
      },
      "execution_count": 2,
      "outputs": [
        {
          "output_type": "stream",
          "name": "stdout",
          "text": [
            "Enter a word to find antonyms: good\n",
            "Antonyms of 'good':\n",
            "evilness, ill, badness, bad, evil\n"
          ]
        }
      ]
    }
  ]
}