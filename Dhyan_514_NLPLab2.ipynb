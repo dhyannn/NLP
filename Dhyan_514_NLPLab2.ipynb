{
  "nbformat": 4,
  "nbformat_minor": 0,
  "metadata": {
    "colab": {
      "provenance": []
    },
    "kernelspec": {
      "name": "python3",
      "display_name": "Python 3"
    },
    "language_info": {
      "name": "python"
    }
  },
  "cells": [
    {
      "cell_type": "code",
      "source": [
        "pip install phonenumbers\n"
      ],
      "metadata": {
        "colab": {
          "base_uri": "https://localhost:8080/"
        },
        "id": "DIwYtnpWDdNQ",
        "outputId": "b90319b5-96fb-422c-a450-8ffe07a7439c"
      },
      "execution_count": null,
      "outputs": [
        {
          "output_type": "stream",
          "name": "stdout",
          "text": [
            "Collecting phonenumbers\n",
            "  Downloading phonenumbers-8.13.30-py2.py3-none-any.whl (2.6 MB)\n",
            "\u001b[2K     \u001b[90m━━━━━━━━━━━━━━━━━━━━━━━━━━━━━━━━━━━━━━━━\u001b[0m \u001b[32m2.6/2.6 MB\u001b[0m \u001b[31m9.2 MB/s\u001b[0m eta \u001b[36m0:00:00\u001b[0m\n",
            "\u001b[?25hInstalling collected packages: phonenumbers\n",
            "Successfully installed phonenumbers-8.13.30\n"
          ]
        }
      ]
    },
    {
      "cell_type": "code",
      "execution_count": null,
      "metadata": {
        "colab": {
          "base_uri": "https://localhost:8080/"
        },
        "id": "73pu6dFgFR1R",
        "outputId": "7b1d4c6d-2f60-4d90-9505-55b465ddc2cb"
      },
      "outputs": [
        {
          "output_type": "stream",
          "name": "stderr",
          "text": [
            "[nltk_data] Downloading package punkt to /root/nltk_data...\n",
            "[nltk_data]   Unzipping tokenizers/punkt.zip.\n",
            "[nltk_data] Downloading package stopwords to /root/nltk_data...\n",
            "[nltk_data]   Unzipping corpora/stopwords.zip.\n"
          ]
        },
        {
          "output_type": "execute_result",
          "data": {
            "text/plain": [
              "True"
            ]
          },
          "metadata": {},
          "execution_count": 2
        }
      ],
      "source": [
        "import nltk\n",
        "from nltk.tokenize import word_tokenize\n",
        "from nltk.probability import FreqDist\n",
        "nltk.download('punkt')\n",
        "nltk.download('stopwords')"
      ]
    },
    {
      "cell_type": "code",
      "source": [
        "txt=\"In my role as an AI language model, I find great interest in natural language processing (NLP), which encompasses the understanding and generation of human language. It's crucial to consider the impact of special characters, such as '@' in email addresses, as well as the role of punctuation marks, like commas and periods, in structuring written communication. Stop words, play a critical function in language processing, as they can help with sentence structure but don’t carry significant meaning. When handling personal information, it's essential to handle sensitive data responsibly, including email IDs like example@email.com and phone numbers such as +1 (123) 456-7890. Additionally, being mindful of sensitive data like date of birth, for instance '27-March-2000', is imperative to ensure privacy and security.\"\n",
        "\n"
      ],
      "metadata": {
        "id": "29uu47EVHW3t"
      },
      "execution_count": null,
      "outputs": []
    },
    {
      "cell_type": "code",
      "source": [
        "tokens = word_tokenize(txt)"
      ],
      "metadata": {
        "id": "xXUbvdIBH_qo"
      },
      "execution_count": null,
      "outputs": []
    },
    {
      "cell_type": "markdown",
      "source": [
        "a. count the no. of words"
      ],
      "metadata": {
        "id": "GlhVUEYMKLwY"
      }
    },
    {
      "cell_type": "code",
      "source": [
        "uniquewords=set(tokens)\n",
        "no_tokens=len(uniquewords)\n",
        "no_tokens"
      ],
      "metadata": {
        "colab": {
          "base_uri": "https://localhost:8080/"
        },
        "id": "mRpAlDouJmvK",
        "outputId": "f07073ff-e634-4410-bdc7-06c3bb123dd1"
      },
      "execution_count": null,
      "outputs": [
        {
          "output_type": "execute_result",
          "data": {
            "text/plain": [
              "101"
            ]
          },
          "metadata": {},
          "execution_count": 5
        }
      ]
    },
    {
      "cell_type": "markdown",
      "source": [
        "b. count the no. of punctuations and remove the punctuations"
      ],
      "metadata": {
        "id": "ZjTzbmFjKRK3"
      }
    },
    {
      "cell_type": "code",
      "source": [
        "import string\n",
        "num = sum(1 for char in txt if char in string.punctuation)\n",
        "print(\"Number of punctuation characters:\", num)\n"
      ],
      "metadata": {
        "colab": {
          "base_uri": "https://localhost:8080/"
        },
        "id": "Twxz5bjiKBdj",
        "outputId": "48a09f83-c653-4a66-ee44-fe86673fd9c9"
      },
      "execution_count": null,
      "outputs": [
        {
          "output_type": "stream",
          "name": "stdout",
          "text": [
            "Number of punctuation characters: 35\n"
          ]
        }
      ]
    },
    {
      "cell_type": "code",
      "source": [
        "text_no_punct = txt.translate(str.maketrans('', '', string.punctuation))\n",
        "print(\"Text with punctuations removed:\", text_no_punct)"
      ],
      "metadata": {
        "colab": {
          "base_uri": "https://localhost:8080/"
        },
        "id": "7CXKFjskSVWU",
        "outputId": "9511fc8f-f23d-4f94-86ef-5415fca8d589"
      },
      "execution_count": null,
      "outputs": [
        {
          "output_type": "stream",
          "name": "stdout",
          "text": [
            "Text with punctuations removed: In my role as an AI language model I find great interest in natural language processing NLP which encompasses the understanding and generation of human language Its crucial to consider the impact of special characters such as  in email addresses as well as the role of punctuation marks like commas and periods in structuring written communication Stop words play a critical function in language processing as they can help with sentence structure but don’t carry significant meaning When handling personal information its essential to handle sensitive data responsibly including email IDs like exampleemailcom and phone numbers such as 1 123 4567890 Additionally being mindful of sensitive data like date of birth for instance 27March2000 is imperative to ensure privacy and security\n"
          ]
        }
      ]
    },
    {
      "cell_type": "markdown",
      "source": [
        "c. Plot the distribution of stopwords used in the text using barplot."
      ],
      "metadata": {
        "id": "eA5fz_c9SgUN"
      }
    },
    {
      "cell_type": "code",
      "source": [
        "import matplotlib.pyplot as plt\n",
        "from nltk.corpus import stopwords\n",
        "import seaborn as sns"
      ],
      "metadata": {
        "id": "AOoMWss3Skbg"
      },
      "execution_count": null,
      "outputs": []
    },
    {
      "cell_type": "code",
      "source": [
        "tokens = nltk.word_tokenize(txt)"
      ],
      "metadata": {
        "id": "KSWkdQ1-Sxu-"
      },
      "execution_count": null,
      "outputs": []
    },
    {
      "cell_type": "code",
      "source": [
        "stopwords = set(stopwords.words('english'))"
      ],
      "metadata": {
        "id": "nVgNVIhyS0O5"
      },
      "execution_count": null,
      "outputs": []
    },
    {
      "cell_type": "code",
      "source": [
        "stopwords\n"
      ],
      "metadata": {
        "colab": {
          "base_uri": "https://localhost:8080/"
        },
        "id": "Zv6FcOLUVzSv",
        "outputId": "e971b5eb-7e9c-40f8-9ad7-ae0a64c33112"
      },
      "execution_count": null,
      "outputs": [
        {
          "output_type": "execute_result",
          "data": {
            "text/plain": [
              "{'a',\n",
              " 'about',\n",
              " 'above',\n",
              " 'after',\n",
              " 'again',\n",
              " 'against',\n",
              " 'ain',\n",
              " 'all',\n",
              " 'am',\n",
              " 'an',\n",
              " 'and',\n",
              " 'any',\n",
              " 'are',\n",
              " 'aren',\n",
              " \"aren't\",\n",
              " 'as',\n",
              " 'at',\n",
              " 'be',\n",
              " 'because',\n",
              " 'been',\n",
              " 'before',\n",
              " 'being',\n",
              " 'below',\n",
              " 'between',\n",
              " 'both',\n",
              " 'but',\n",
              " 'by',\n",
              " 'can',\n",
              " 'couldn',\n",
              " \"couldn't\",\n",
              " 'd',\n",
              " 'did',\n",
              " 'didn',\n",
              " \"didn't\",\n",
              " 'do',\n",
              " 'does',\n",
              " 'doesn',\n",
              " \"doesn't\",\n",
              " 'doing',\n",
              " 'don',\n",
              " \"don't\",\n",
              " 'down',\n",
              " 'during',\n",
              " 'each',\n",
              " 'few',\n",
              " 'for',\n",
              " 'from',\n",
              " 'further',\n",
              " 'had',\n",
              " 'hadn',\n",
              " \"hadn't\",\n",
              " 'has',\n",
              " 'hasn',\n",
              " \"hasn't\",\n",
              " 'have',\n",
              " 'haven',\n",
              " \"haven't\",\n",
              " 'having',\n",
              " 'he',\n",
              " 'her',\n",
              " 'here',\n",
              " 'hers',\n",
              " 'herself',\n",
              " 'him',\n",
              " 'himself',\n",
              " 'his',\n",
              " 'how',\n",
              " 'i',\n",
              " 'if',\n",
              " 'in',\n",
              " 'into',\n",
              " 'is',\n",
              " 'isn',\n",
              " \"isn't\",\n",
              " 'it',\n",
              " \"it's\",\n",
              " 'its',\n",
              " 'itself',\n",
              " 'just',\n",
              " 'll',\n",
              " 'm',\n",
              " 'ma',\n",
              " 'me',\n",
              " 'mightn',\n",
              " \"mightn't\",\n",
              " 'more',\n",
              " 'most',\n",
              " 'mustn',\n",
              " \"mustn't\",\n",
              " 'my',\n",
              " 'myself',\n",
              " 'needn',\n",
              " \"needn't\",\n",
              " 'no',\n",
              " 'nor',\n",
              " 'not',\n",
              " 'now',\n",
              " 'o',\n",
              " 'of',\n",
              " 'off',\n",
              " 'on',\n",
              " 'once',\n",
              " 'only',\n",
              " 'or',\n",
              " 'other',\n",
              " 'our',\n",
              " 'ours',\n",
              " 'ourselves',\n",
              " 'out',\n",
              " 'over',\n",
              " 'own',\n",
              " 're',\n",
              " 's',\n",
              " 'same',\n",
              " 'shan',\n",
              " \"shan't\",\n",
              " 'she',\n",
              " \"she's\",\n",
              " 'should',\n",
              " \"should've\",\n",
              " 'shouldn',\n",
              " \"shouldn't\",\n",
              " 'so',\n",
              " 'some',\n",
              " 'such',\n",
              " 't',\n",
              " 'than',\n",
              " 'that',\n",
              " \"that'll\",\n",
              " 'the',\n",
              " 'their',\n",
              " 'theirs',\n",
              " 'them',\n",
              " 'themselves',\n",
              " 'then',\n",
              " 'there',\n",
              " 'these',\n",
              " 'they',\n",
              " 'this',\n",
              " 'those',\n",
              " 'through',\n",
              " 'to',\n",
              " 'too',\n",
              " 'under',\n",
              " 'until',\n",
              " 'up',\n",
              " 've',\n",
              " 'very',\n",
              " 'was',\n",
              " 'wasn',\n",
              " \"wasn't\",\n",
              " 'we',\n",
              " 'were',\n",
              " 'weren',\n",
              " \"weren't\",\n",
              " 'what',\n",
              " 'when',\n",
              " 'where',\n",
              " 'which',\n",
              " 'while',\n",
              " 'who',\n",
              " 'whom',\n",
              " 'why',\n",
              " 'will',\n",
              " 'with',\n",
              " 'won',\n",
              " \"won't\",\n",
              " 'wouldn',\n",
              " \"wouldn't\",\n",
              " 'y',\n",
              " 'you',\n",
              " \"you'd\",\n",
              " \"you'll\",\n",
              " \"you're\",\n",
              " \"you've\",\n",
              " 'your',\n",
              " 'yours',\n",
              " 'yourself',\n",
              " 'yourselves'}"
            ]
          },
          "metadata": {},
          "execution_count": 11
        }
      ]
    },
    {
      "cell_type": "code",
      "source": [
        "# filter the tokens to include only stopwords\n",
        "textsw = [token for token in tokens if token.lower() in stopwords]\n",
        "\n",
        "# calculate the frequency distribution of stopwords\n",
        "fdist = nltk.FreqDist(textsw)\n"
      ],
      "metadata": {
        "id": "ZxdyO-9TS_1x"
      },
      "execution_count": null,
      "outputs": []
    },
    {
      "cell_type": "code",
      "source": [
        "plt.figure(figsize=(10, 6))\n",
        "sns.barplot(x=list(fdist.keys()), y=list(fdist.values()), palette=\"viridis\")\n",
        "plt.title('Distribution of Stopwords in the Text')\n",
        "plt.xlabel('Stopwords')\n",
        "plt.ylabel('Frequency')\n",
        "plt.show()"
      ],
      "metadata": {
        "colab": {
          "base_uri": "https://localhost:8080/",
          "height": 655
        },
        "id": "aScteZFETbAo",
        "outputId": "245afe9d-976f-4729-cfce-b87d3a8a09da"
      },
      "execution_count": null,
      "outputs": [
        {
          "output_type": "stream",
          "name": "stderr",
          "text": [
            "<ipython-input-13-1b21afae528c>:2: FutureWarning: \n",
            "\n",
            "Passing `palette` without assigning `hue` is deprecated and will be removed in v0.14.0. Assign the `x` variable to `hue` and set `legend=False` for the same effect.\n",
            "\n",
            "  sns.barplot(x=list(fdist.keys()), y=list(fdist.values()), palette=\"viridis\")\n"
          ]
        },
        {
          "output_type": "display_data",
          "data": {
            "text/plain": [
              "<Figure size 1000x600 with 1 Axes>"
            ],
            "image/png": "[encoded data removed]"
          },
          "metadata": {}
        }
      ]
    },
    {
      "cell_type": "markdown",
      "source": [
        "d. Remove the stopwords from the text."
      ],
      "metadata": {
        "id": "NLSOC8yRTzGS"
      }
    },
    {
      "cell_type": "code",
      "source": [
        "# Remove stopwords from the text\n",
        "filtered_text = [word for word in tokens if word.lower() not in stopwords]\n",
        "filtered_text = ' '.join(filtered_text)\n",
        "\n",
        "filtered_text\n"
      ],
      "metadata": {
        "colab": {
          "base_uri": "https://localhost:8080/",
          "height": 90
        },
        "id": "JE4UvHp-TuWE",
        "outputId": "55bb9aaa-2f6a-4463-9008-48d22364bc01"
      },
      "execution_count": null,
      "outputs": [
        {
          "output_type": "execute_result",
          "data": {
            "text/plain": [
              "\"role AI language model , find great interest natural language processing ( NLP ) , encompasses understanding generation human language . 's crucial consider impact special characters , ' @ ' email addresses , well role punctuation marks , like commas periods , structuring written communication . Stop words , play critical function language processing , help sentence structure ’ carry significant meaning . handling personal information , 's essential handle sensitive data responsibly , including email IDs like example @ email.com phone numbers +1 ( 123 ) 456-7890 . Additionally , mindful sensitive data like date birth , instance '27-March-2000 ' , imperative ensure privacy security .\""
            ],
            "application/vnd.google.colaboratory.intrinsic+json": {
              "type": "string"
            }
          },
          "metadata": {},
          "execution_count": 14
        }
      ]
    },
    {
      "cell_type": "markdown",
      "source": [
        "** e. Plot the distribution of each POS Tag using a barplot.**"
      ],
      "metadata": {
        "id": "ms7bAguiUL1r"
      }
    },
    {
      "cell_type": "code",
      "source": [
        "nltk.download('averaged_perceptron_tagger')\n",
        "\n",
        "# Tag the tokens with POS tags\n",
        "pos_tags = nltk.pos_tag(tokens)\n",
        "\n",
        "# Get the counts of each POS tag\n",
        "tag_fd = nltk.FreqDist(tag for (word, tag) in pos_tags)\n",
        "\n",
        "# Create a bar plot for the distribution of POS tags\n",
        "tag_fd.plot()\n",
        "plt.show()\n"
      ],
      "metadata": {
        "colab": {
          "base_uri": "https://localhost:8080/",
          "height": 525
        },
        "id": "grV_Fn7xUGWK",
        "outputId": "9f3ece3d-2ed2-4a7b-c149-4fa80a7e6256"
      },
      "execution_count": null,
      "outputs": [
        {
          "output_type": "stream",
          "name": "stderr",
          "text": [
            "[nltk_data] Downloading package averaged_perceptron_tagger to\n",
            "[nltk_data]     /root/nltk_data...\n",
            "[nltk_data]   Unzipping taggers/averaged_perceptron_tagger.zip.\n"
          ]
        },
        {
          "output_type": "display_data",
          "data": {
            "text/plain": [
              "<Figure size 640x480 with 1 Axes>"
            ],
            "image/png": "[encoded data removed]"
          },
          "metadata": {}
        }
      ]
    },
    {
      "cell_type": "code",
      "source": [
        "pos_tags"
      ],
      "metadata": {
        "colab": {
          "base_uri": "https://localhost:8080/"
        },
        "id": "VyDTXJLNWtSa",
        "outputId": "8e2db3d1-a3de-456b-a86b-24eedc861e01"
      },
      "execution_count": null,
      "outputs": [
        {
          "output_type": "execute_result",
          "data": {
            "text/plain": [
              "[('In', 'IN'),\n",
              " ('my', 'PRP$'),\n",
              " ('role', 'NN'),\n",
              " ('as', 'IN'),\n",
              " ('an', 'DT'),\n",
              " ('AI', 'NNP'),\n",
              " ('language', 'NN'),\n",
              " ('model', 'NN'),\n",
              " (',', ','),\n",
              " ('I', 'PRP'),\n",
              " ('find', 'VBP'),\n",
              " ('great', 'JJ'),\n",
              " ('interest', 'NN'),\n",
              " ('in', 'IN'),\n",
              " ('natural', 'JJ'),\n",
              " ('language', 'NN'),\n",
              " ('processing', 'NN'),\n",
              " ('(', '('),\n",
              " ('NLP', 'NNP'),\n",
              " (')', ')'),\n",
              " (',', ','),\n",
              " ('which', 'WDT'),\n",
              " ('encompasses', 'VBZ'),\n",
              " ('the', 'DT'),\n",
              " ('understanding', 'NN'),\n",
              " ('and', 'CC'),\n",
              " ('generation', 'NN'),\n",
              " ('of', 'IN'),\n",
              " ('human', 'JJ'),\n",
              " ('language', 'NN'),\n",
              " ('.', '.'),\n",
              " ('It', 'PRP'),\n",
              " (\"'s\", 'VBZ'),\n",
              " ('crucial', 'JJ'),\n",
              " ('to', 'TO'),\n",
              " ('consider', 'VB'),\n",
              " ('the', 'DT'),\n",
              " ('impact', 'NN'),\n",
              " ('of', 'IN'),\n",
              " ('special', 'JJ'),\n",
              " ('characters', 'NNS'),\n",
              " (',', ','),\n",
              " ('such', 'JJ'),\n",
              " ('as', 'IN'),\n",
              " (\"'\", 'POS'),\n",
              " ('@', 'NN'),\n",
              " (\"'\", \"''\"),\n",
              " ('in', 'IN'),\n",
              " ('email', 'NN'),\n",
              " ('addresses', 'NNS'),\n",
              " (',', ','),\n",
              " ('as', 'RB'),\n",
              " ('well', 'RB'),\n",
              " ('as', 'IN'),\n",
              " ('the', 'DT'),\n",
              " ('role', 'NN'),\n",
              " ('of', 'IN'),\n",
              " ('punctuation', 'NN'),\n",
              " ('marks', 'NNS'),\n",
              " (',', ','),\n",
              " ('like', 'IN'),\n",
              " ('commas', 'NN'),\n",
              " ('and', 'CC'),\n",
              " ('periods', 'NNS'),\n",
              " (',', ','),\n",
              " ('in', 'IN'),\n",
              " ('structuring', 'VBG'),\n",
              " ('written', 'VBN'),\n",
              " ('communication', 'NN'),\n",
              " ('.', '.'),\n",
              " ('Stop', 'NNP'),\n",
              " ('words', 'NNS'),\n",
              " (',', ','),\n",
              " ('play', 'VB'),\n",
              " ('a', 'DT'),\n",
              " ('critical', 'JJ'),\n",
              " ('function', 'NN'),\n",
              " ('in', 'IN'),\n",
              " ('language', 'NN'),\n",
              " ('processing', 'NN'),\n",
              " (',', ','),\n",
              " ('as', 'IN'),\n",
              " ('they', 'PRP'),\n",
              " ('can', 'MD'),\n",
              " ('help', 'VB'),\n",
              " ('with', 'IN'),\n",
              " ('sentence', 'NN'),\n",
              " ('structure', 'NN'),\n",
              " ('but', 'CC'),\n",
              " ('don', 'JJ'),\n",
              " ('’', 'NNP'),\n",
              " ('t', 'NN'),\n",
              " ('carry', 'NN'),\n",
              " ('significant', 'JJ'),\n",
              " ('meaning', 'NN'),\n",
              " ('.', '.'),\n",
              " ('When', 'WRB'),\n",
              " ('handling', 'VBG'),\n",
              " ('personal', 'JJ'),\n",
              " ('information', 'NN'),\n",
              " (',', ','),\n",
              " ('it', 'PRP'),\n",
              " (\"'s\", 'VBZ'),\n",
              " ('essential', 'JJ'),\n",
              " ('to', 'TO'),\n",
              " ('handle', 'VB'),\n",
              " ('sensitive', 'JJ'),\n",
              " ('data', 'NNS'),\n",
              " ('responsibly', 'RB'),\n",
              " (',', ','),\n",
              " ('including', 'VBG'),\n",
              " ('email', 'JJ'),\n",
              " ('IDs', 'NNP'),\n",
              " ('like', 'IN'),\n",
              " ('example', 'NN'),\n",
              " ('@', 'NNP'),\n",
              " ('email.com', 'NN'),\n",
              " ('and', 'CC'),\n",
              " ('phone', 'NN'),\n",
              " ('numbers', 'NNS'),\n",
              " ('such', 'JJ'),\n",
              " ('as', 'IN'),\n",
              " ('+1', 'NNP'),\n",
              " ('(', '('),\n",
              " ('123', 'CD'),\n",
              " (')', ')'),\n",
              " ('456-7890', 'NN'),\n",
              " ('.', '.'),\n",
              " ('Additionally', 'RB'),\n",
              " (',', ','),\n",
              " ('being', 'VBG'),\n",
              " ('mindful', 'NN'),\n",
              " ('of', 'IN'),\n",
              " ('sensitive', 'JJ'),\n",
              " ('data', 'NNS'),\n",
              " ('like', 'IN'),\n",
              " ('date', 'NN'),\n",
              " ('of', 'IN'),\n",
              " ('birth', 'NN'),\n",
              " (',', ','),\n",
              " ('for', 'IN'),\n",
              " ('instance', 'NN'),\n",
              " (\"'27-March-2000\", 'CD'),\n",
              " (\"'\", \"''\"),\n",
              " (',', ','),\n",
              " ('is', 'VBZ'),\n",
              " ('imperative', 'JJ'),\n",
              " ('to', 'TO'),\n",
              " ('ensure', 'VB'),\n",
              " ('privacy', 'NN'),\n",
              " ('and', 'CC'),\n",
              " ('security', 'NN'),\n",
              " ('.', '.')]"
            ]
          },
          "metadata": {},
          "execution_count": 16
        }
      ]
    },
    {
      "cell_type": "markdown",
      "source": [
        "f. Determine the number of unique lemma available in the text."
      ],
      "metadata": {
        "id": "QuYoNGqJZEbJ"
      }
    },
    {
      "cell_type": "code",
      "source": [
        "from nltk.stem import WordNetLemmatizer\n",
        "nltk.download('wordnet')\n",
        "# Tokenize the text\n",
        "tokens = nltk.word_tokenize(txt)\n",
        "# Initialize the WordNet lemmatizer\n",
        "lemmatizer = WordNetLemmatizer()\n",
        "\n",
        "# Obtain the unique lemmas\n",
        "unique_lemmas = set(lemmatizer.lemmatize(token) for token in tokens)\n",
        "\n",
        "# Get the number of unique lemmas\n",
        "num_unique_lemmas = len(unique_lemmas)\n",
        "print(\"Number of unique lemmas:\", num_unique_lemmas)\n"
      ],
      "metadata": {
        "colab": {
          "base_uri": "https://localhost:8080/"
        },
        "id": "1Zwj2ao4YETr",
        "outputId": "893a26e6-5c17-4655-851f-d0ef31dd3c74"
      },
      "execution_count": null,
      "outputs": [
        {
          "output_type": "stream",
          "name": "stderr",
          "text": [
            "[nltk_data] Downloading package wordnet to /root/nltk_data...\n"
          ]
        },
        {
          "output_type": "stream",
          "name": "stdout",
          "text": [
            "Number of unique lemmas: 100\n"
          ]
        }
      ]
    },
    {
      "cell_type": "markdown",
      "source": [
        "g. plotting the top 10 words that is common"
      ],
      "metadata": {
        "id": "OUk6aliJa6wx"
      }
    },
    {
      "cell_type": "code",
      "source": [
        "top_10 = fdist.most_common(10)\n",
        "\n",
        "# Create a bar plot for the frequency distribution of top 10 tokens\n",
        "plt.figure(figsize=(10, 6))\n",
        "plt.bar([token[0] for token in top_10], [token[1] for token in top_10], color='skyblue')\n",
        "plt.title('Top 10 Most Occurring Tokens')\n",
        "plt.xlabel('Tokens')\n",
        "plt.ylabel('Frequency')\n",
        "plt.xticks(rotation=45)\n",
        "plt.show()"
      ],
      "metadata": {
        "colab": {
          "base_uri": "https://localhost:8080/",
          "height": 583
        },
        "id": "v4-ZxTYxa85t",
        "outputId": "7db5cc4f-71fe-4233-c0a9-3dd086ada41f"
      },
      "execution_count": null,
      "outputs": [
        {
          "output_type": "display_data",
          "data": {
            "text/plain": [
              "<Figure size 1000x600 with 1 Axes>"
            ],
            "image/png": "[encoded data removed]"
          },
          "metadata": {}
        }
      ]
    },
    {
      "cell_type": "markdown",
      "source": [
        "h. Find the number of unique bigrams, trigrams and quadgrams (n=4) in the corpus"
      ],
      "metadata": {
        "id": "EqMjTIhsbdNV"
      }
    },
    {
      "cell_type": "code",
      "source": [
        "from nltk.util import ngrams\n",
        "from collections import Counter\n",
        "# Tokenize the text\n",
        "tokens = word_tokenize(txt)\n",
        "\n",
        "# Create bigrams, trigrams, and quadgrams\n",
        "bigrams = list(ngrams(tokens, 2))\n",
        "trigrams = list(ngrams(tokens, 3))\n",
        "quadgrams = list(ngrams(tokens, 4))\n",
        "\n",
        "# Count the occurrences of unique bigrams, trigrams, and quadgrams\n",
        "unique_bigrams = len(set(bigrams))\n",
        "unique_trigrams = len(set(trigrams))\n",
        "unique_quadgrams = len(set(quadgrams))\n",
        "\n",
        "print(\"Number of unique bigrams:\", unique_bigrams)\n",
        "print(\"Number of unique trigrams:\", unique_trigrams)\n",
        "print(\"Number of unique quadgrams:\", unique_quadgrams)\n"
      ],
      "metadata": {
        "id": "66WhhOHJbjJc",
        "colab": {
          "base_uri": "https://localhost:8080/"
        },
        "outputId": "dd710125-139c-4dfa-8c0d-478afc7decf9"
      },
      "execution_count": null,
      "outputs": [
        {
          "output_type": "stream",
          "name": "stdout",
          "text": [
            "Number of unique bigrams: 148\n",
            "Number of unique trigrams: 151\n",
            "Number of unique quadgrams: 150\n"
          ]
        }
      ]
    },
    {
      "cell_type": "markdown",
      "source": [
        "i . Find all dates and convert them to the DD-MM-YYYY format."
      ],
      "metadata": {
        "id": "NxY838bgBRR_"
      }
    },
    {
      "cell_type": "code",
      "source": [
        "from dateutil import parser\n",
        "import re\n",
        "# Define a regular expression pattern to match dates\n",
        "date_pattern = r'\\b\\d{1,4}[-/]\\d{1,2}[-/]\\d{2,4}\\b'\n",
        "\n",
        "# Find all matching dates in the text\n",
        "dates = re.findall(date_pattern, txt)\n",
        "print(dates)"
      ],
      "metadata": {
        "colab": {
          "base_uri": "https://localhost:8080/"
        },
        "id": "fGayBhwVBa-E",
        "outputId": "fa43ec24-6efd-45a7-89ab-7a9fb3326ebc"
      },
      "execution_count": null,
      "outputs": [
        {
          "output_type": "stream",
          "name": "stdout",
          "text": [
            "[]\n"
          ]
        }
      ]
    },
    {
      "cell_type": "code",
      "source": [
        "\n",
        "# Convert the dates to the DD-MM-YYYY format\n",
        "formatted_dates = [parser.parse(date).strftime('%d-%m-%Y') for date in dates]\n",
        "\n",
        "print(\"Original dates found:\", dates)\n",
        "print(\"Dates converted to DD-MM-YYYY format:\", formatted_dates)"
      ],
      "metadata": {
        "colab": {
          "base_uri": "https://localhost:8080/"
        },
        "id": "KgPW6dNYBvxh",
        "outputId": "95c06384-e714-4678-89af-ca7b4c43cd0e"
      },
      "execution_count": null,
      "outputs": [
        {
          "output_type": "stream",
          "name": "stdout",
          "text": [
            "Original dates found: []\n",
            "Dates converted to DD-MM-YYYY format: []\n"
          ]
        }
      ]
    },
    {
      "cell_type": "markdown",
      "source": [
        "j. Plot a distribution of the different values of year occurring in the text."
      ],
      "metadata": {
        "id": "nDNR0Ge3CDzd"
      }
    },
    {
      "cell_type": "code",
      "source": [
        "# Define a regular expression pattern to match years\n",
        "year_pattern = r'(19|20)\\d{2}'  # Matches years between 1900 and 2099\n",
        "\n",
        "# Find all matching years in the text\n",
        "years = re.findall(year_pattern, txt)\n",
        "\n",
        "# Plot the distribution of years\n",
        "plt.figure(figsize=(10, 6))\n",
        "plt.hist(years, bins=range(min(map(int, years)), max(map(int, years)) + 1), align='left', rwidth=0.8, color='lightblue')\n",
        "plt.xlabel('Years')\n",
        "plt.ylabel('Frequency')\n",
        "plt.title('Distribution of Years')\n",
        "plt.show()"
      ],
      "metadata": {
        "colab": {
          "base_uri": "https://localhost:8080/",
          "height": 564
        },
        "id": "JbCOo-yoCTEl",
        "outputId": "2d9ba1fc-423a-4bd8-c45a-7aa0f04d3ad2"
      },
      "execution_count": null,
      "outputs": [
        {
          "output_type": "display_data",
          "data": {
            "text/plain": [
              "<Figure size 1000x600 with 1 Axes>"
            ],
            "image/png": "[encoded data removed]"
          },
          "metadata": {}
        }
      ]
    },
    {
      "cell_type": "code",
      "source": [
        "import re\n",
        "import phonenumbers\n",
        "\n",
        "# Define a regular expression pattern to match phone numbers\n",
        "phone_number_pattern = r'(\\+\\d{1,2}\\s?)?\\(?\\d{3}\\)?[-.\\s]?\\d{3}[-.\\s]?\\d{4}'\n",
        "\n",
        "# Find all matching phone numbers in the text\n",
        "phone_numbers = re.findall(phone_number_pattern, txt)\n",
        "\n",
        "# Validate and format the phone numbers\n",
        "valid_phone_numbers = []\n",
        "for number in phone_numbers:\n",
        "    try:\n",
        "        parsed_number = phonenumbers.parse(number, None)  # Parse the phone number\n",
        "        if phonenumbers.is_valid_number(parsed_number):  # Validate the phone number\n",
        "            valid_phone_numbers.append(phonenumbers.format_number(parsed_number, phonenumbers.PhoneNumberFormat.E164))  # Format the valid phone number\n",
        "    except phonenumbers.phonenumberutil.NumberParseException:\n",
        "        pass\n",
        "\n",
        "# Remove invalid phone numbers from the text\n",
        "for number in phone_numbers:\n",
        "    if number not in valid_phone_numbers:\n",
        "        txt = txt.replace(number, '')\n",
        "\n",
        "# Output the valid phone numbers and the updated text with invalid numbers removed\n",
        "print(\"Valid phone numbers:\", valid_phone_numbers)\n",
        "print(\"Text with invalid phone numbers removed:\", txt)\n"
      ],
      "metadata": {
        "colab": {
          "base_uri": "https://localhost:8080/"
        },
        "id": "yogcO8MGCr2o",
        "outputId": "de4745f5-482b-4c9a-8d2a-2cf85b436e72"
      },
      "execution_count": null,
      "outputs": [
        {
          "output_type": "stream",
          "name": "stdout",
          "text": [
            "Valid phone numbers: []\n",
            "Text with invalid phone numbers removed: In my role as an AI language model, I find great interest in natural language processing (NLP), which encompasses the understanding and generation of human language. It's crucial to consider the impact of special characters, such as '@' in email addresses, as well as the role of punctuation marks, like commas and periods, in structuring written communication. Stop words, play a critical function in language processing, as they can help with sentence structure but don’t carry significant meaning. When handling personal information, it's essential to handle sensitive data responsibly, including email IDs like example@email.com and phone numbers such as (123) 456-7890. Additionally, being mindful of sensitive data like date of birth, for instance '27-March-2000', is imperative to ensure privacy and security.\n"
          ]
        }
      ]
    },
    {
      "cell_type": "markdown",
      "source": [
        "\n",
        "Insights and Possible Applications of Text Analysis and Data Visualization:\n",
        "\n",
        "1. **Insights**: Text analysis and data visualization provide valuable insights into patterns, trends, and relationships within unstructured data, such as text. By analyzing and visualizing this data, businesses and researchers can gain insights into customer sentiments, key topics, and emerging trends in various industries.\n",
        "\n",
        "2. **Applications**:\n",
        "   - *Business Intelligence*: Text analysis and data visualization can be applied to extract actionable insights from customer feedback, social media data, and market research to drive business decisions.\n",
        "   - *Risk Assessment and Fraud Detection*: Text analysis can be used to identify potentially fraudulent activities through the analysis of unstructured textual data, while data visualization can help in presenting the findings effectively.\n",
        "   - *Healthcare and Medical Research*: Analyzing patient records, medical literature, and clinical trial data using text analysis and visualizing the results can aid in medical research, disease surveillance, and personalized healthcare.\n",
        "   - *Sentiment Analysis*: Understanding customer sentiment through social media, online reviews, and other sources using text analysis and visualizing the sentiments can guide marketing and product development strategies.\n",
        "   - *Financial Analysis*: Text analysis and data visualization can be used to analyze news articles, earnings reports, and other financial documents for informed investment decision-making.\n",
        "\n",
        "By leveraging text analysis and data visualization, organizations across various industries can uncover valuable insights and make data-driven decisions based on the patterns and trends discovered in textual data.\n",
        "\n",
        "These techniques can significantly enhance decision-making processes, improve customer experiences, and drive innovations across numerous domains.  "
      ],
      "metadata": {
        "id": "IL3zpXWvEDAZ"
      }
    }
  ]
}