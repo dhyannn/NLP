{
  "nbformat": 4,
  "nbformat_minor": 0,
  "metadata": {
    "colab": {
      "provenance": [],
      "authorship_tag": "ABX9TyOdm/PY/QceKDlcJCi0QJD0",
      "include_colab_link": true
    },
    "kernelspec": {
      "name": "python3",
      "display_name": "Python 3"
    },
    "language_info": {
      "name": "python"
    }
  },
  "cells": [
    {
      "cell_type": "markdown",
      "metadata": {
        "id": "view-in-github",
        "colab_type": "text"
      },
      "source": [
        "<a href=\"https://colab.research.google.com/github/dhyannn/NLP/blob/main/Dhyan_514_nlplab3.ipynb\" target=\"_parent\"><img src=\"https://colab.research.google.com/assets/colab-badge.svg\" alt=\"Open In Colab\"/></a>"
      ]
    },
    {
      "cell_type": "markdown",
      "source": [
        " program to tokenize any of two Non-English Languages(one Indian\n",
        "Language and One International Languge)."
      ],
      "metadata": {
        "id": "zpmsrVSOJSow"
      }
    },
    {
      "cell_type": "code",
      "source": [
        "import nltk\n",
        "nltk.download('punkt')\n",
        "\n",
        "from nltk.tokenize import word_tokenize\n",
        "\n",
        "hindi_text = \"धूप में जाने से पहले, कृपया कैप, चश्मा, और सनस्क्रीन लगाएं। यह सुनिश्चित करेगा कि आपकी त्वचा सुरक्षित रहे। बच्चों को सूरज की किरणों से बचाने के लिए उन्हें भी धूप के समय सुरक्षित रखना चाहिए।\"\n",
        "tokens = word_tokenize(hindi_text)\n",
        "\n",
        "print(tokens)\n"
      ],
      "metadata": {
        "id": "dkvseexdMcOo",
        "colab": {
          "base_uri": "https://localhost:8080/"
        },
        "outputId": "54cd88d1-4c3f-462d-b7b3-6214d0ce6288"
      },
      "execution_count": 3,
      "outputs": [
        {
          "output_type": "stream",
          "name": "stdout",
          "text": [
            "['धूप', 'में', 'जाने', 'से', 'पहले', ',', 'कृपया', 'कैप', ',', 'चश्मा', ',', 'और', 'सनस्क्रीन', 'लगाएं।', 'यह', 'सुनिश्चित', 'करेगा', 'कि', 'आपकी', 'त्वचा', 'सुरक्षित', 'रहे।', 'बच्चों', 'को', 'सूरज', 'की', 'किरणों', 'से', 'बचाने', 'के', 'लिए', 'उन्हें', 'भी', 'धूप', 'के', 'समय', 'सुरक्षित', 'रखना', 'चाहिए।']\n"
          ]
        },
        {
          "output_type": "stream",
          "name": "stderr",
          "text": [
            "[nltk_data] Downloading package punkt to /root/nltk_data...\n",
            "[nltk_data]   Package punkt is already up-to-date!\n"
          ]
        }
      ]
    },
    {
      "cell_type": "code",
      "source": [
        "spanish_text = \"La educación es el pasaporte hacia el futuro, porque el mañana pertenece a aquellos que se preparan hoy.\"\n",
        "tokens = word_tokenize(spanish_text, language='spanish')\n",
        "\n",
        "print(tokens)"
      ],
      "metadata": {
        "colab": {
          "base_uri": "https://localhost:8080/"
        },
        "id": "Jwv5RSf6I44A",
        "outputId": "020b614f-5ce4-4581-d2fa-563533baf9f5"
      },
      "execution_count": 2,
      "outputs": [
        {
          "output_type": "stream",
          "name": "stdout",
          "text": [
            "['La', 'educación', 'es', 'el', 'pasaporte', 'hacia', 'el', 'futuro', ',', 'porque', 'el', 'mañana', 'pertenece', 'a', 'aquellos', 'que', 'se', 'preparan', 'hoy', '.']\n"
          ]
        }
      ]
    },
    {
      "cell_type": "code",
      "source": [],
      "metadata": {
        "id": "-zWMK--TEWPe"
      },
      "execution_count": null,
      "outputs": []
    }
  ]
}