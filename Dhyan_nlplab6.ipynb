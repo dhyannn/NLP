{
  "nbformat": 4,
  "nbformat_minor": 0,
  "metadata": {
    "colab": {
      "provenance": [],
      "authorship_tag": "ABX9TyNWW/E4Nqa01VVE/ogGQJCf",
      "include_colab_link": true
    },
    "kernelspec": {
      "name": "python3",
      "display_name": "Python 3"
    },
    "language_info": {
      "name": "python"
    }
  },
  "cells": [
    {
      "cell_type": "markdown",
      "metadata": {
        "id": "view-in-github",
        "colab_type": "text"
      },
      "source": [
        "<a href=\"https://colab.research.google.com/github/dhyannn/NLP/blob/main/Dhyan_nlplab6.ipynb\" target=\"_parent\"><img src=\"https://colab.research.google.com/assets/colab-badge.svg\" alt=\"Open In Colab\"/></a>"
      ]
    },
    {
      "cell_type": "code",
      "source": [
        "import random\n",
        "\n",
        "quotes = {\n",
        "    \"sad\": [\n",
        "        \"Tough times never last, but tough people do. - Robert H. Schuller\",\n",
        "        \"The only way is up. - Martin Garrix\",\n",
        "        \"The harder you fall, the higher you bounce. - Unknown\"\n",
        "    ],\n",
        "    \"demotivated\": [\n",
        "        \"Success is not final, failure is not fatal: It is the courage to continue that counts. - Winston Churchill\",\n",
        "        \"The only limit to our realization of tomorrow will be our doubts of today. - Franklin D. Roosevelt\",\n",
        "        \"Believe you can and you're halfway there. - Theodore Roosevelt\"\n",
        "    ],\n",
        "    \"other\": [\n",
        "        \"The only way to do great work is to love what you do. - Steve Jobs\",\n",
        "        \"Believe you can and you're halfway there. - Theodore Roosevelt\",\n",
        "        \"The future belongs to those who believe in the beauty of their dreams. - Eleanor Roosevelt\"\n",
        "    ]\n",
        "}\n",
        "\n",
        "def get_random_quote(emotion):\n",
        "    return random.choice(quotes[emotion])\n",
        "\n",
        "def main():\n",
        "    while True:\n",
        "        user_input = input(\"Enter your emotion ('quit' to exit): \").lower()\n",
        "\n",
        "        if user_input == 'quit':\n",
        "            break\n",
        "\n",
        "        if \"sad\" in user_input:\n",
        "            emotion = \"sad\"\n",
        "        else:\n",
        "            emotion = \"other\"\n",
        "\n",
        "        quote = get_random_quote(emotion)\n",
        "\n",
        "        print(quote)\n",
        "\n",
        "if __name__ == '__main__':\n",
        "    main()\n"
      ],
      "metadata": {
        "colab": {
          "base_uri": "https://localhost:8080/"
        },
        "id": "pxH2MUsd17lX",
        "outputId": "716843a5-2822-48f2-842a-519d94efbe1b"
      },
      "execution_count": null,
      "outputs": [
        {
          "output_type": "stream",
          "name": "stdout",
          "text": [
            "Enter your emotion ('quit' to exit): sad\n",
            "The harder you fall, the higher you bounce. - Unknown\n"
          ]
        }
      ]
    },
    {
      "cell_type": "code",
      "source": [],
      "metadata": {
        "id": "FymCy-wt2lsa"
      },
      "execution_count": null,
      "outputs": []
    }
  ]
}