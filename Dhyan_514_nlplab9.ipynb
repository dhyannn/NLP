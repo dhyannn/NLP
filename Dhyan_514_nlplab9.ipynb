{
  "nbformat": 4,
  "nbformat_minor": 0,
  "metadata": {
    "colab": {
      "provenance": [],
      "authorship_tag": "ABX9TyOS0jdEFYK9IStcaYQWhHsU",
      "include_colab_link": true
    },
    "kernelspec": {
      "name": "python3",
      "display_name": "Python 3"
    },
    "language_info": {
      "name": "python"
    }
  },
  "cells": [
    {
      "cell_type": "markdown",
      "metadata": {
        "id": "view-in-github",
        "colab_type": "text"
      },
      "source": [
        "<a href=\"https://colab.research.google.com/github/dhyannn/NLP/blob/main/Dhyan_514_nlplab9.ipynb\" target=\"_parent\"><img src=\"https://colab.research.google.com/assets/colab-badge.svg\" alt=\"Open In Colab\"/></a>"
      ]
    },
    {
      "cell_type": "markdown",
      "source": [
        "1. Implement the Edit Distance.\n"
      ],
      "metadata": {
        "id": "5sQbt9khckUp"
      }
    },
    {
      "cell_type": "code",
      "execution_count": 1,
      "metadata": {
        "id": "yaRqw8skcPhE",
        "colab": {
          "base_uri": "https://localhost:8080/"
        },
        "outputId": "d8e5bc9b-c527-4f76-8fdc-d617e7002a8a"
      },
      "outputs": [
        {
          "output_type": "stream",
          "name": "stdout",
          "text": [
            "Edit distance between 'kitten' and 'sitting': 3\n"
          ]
        }
      ],
      "source": [
        "def edit_distance(s1, s2):\n",
        "    m, n = len(s1), len(s2)\n",
        "    dp = [[0] * (n + 1) for _ in range(m + 1)]\n",
        "\n",
        "    for i in range(m + 1):\n",
        "        dp[i][0] = i\n",
        "    for j in range(n + 1):\n",
        "        dp[0][j] = j\n",
        "\n",
        "    for i in range(1, m + 1):\n",
        "        for j in range(1, n + 1):\n",
        "            if s1[i - 1] == s2[j - 1]:\n",
        "                dp[i][j] = dp[i - 1][j - 1]\n",
        "            else:\n",
        "                dp[i][j] = 1 + min(dp[i - 1][j], dp[i][j - 1], dp[i - 1][j - 1])\n",
        "\n",
        "    return dp[m][n]\n",
        "\n",
        "s1 = \"kitten\"\n",
        "s2 = \"sitting\"\n",
        "print(\"Edit distance between '{}' and '{}': {}\".format(s1, s2, edit_distance(s1, s2)))"
      ]
    },
    {
      "cell_type": "markdown",
      "source": [
        "2. Implement the Story or Poem Creator based on the keywords using NLG."
      ],
      "metadata": {
        "id": "UzlHMDrVCdoo"
      }
    },
    {
      "cell_type": "code",
      "source": [
        "def generate_story(keywords):\n",
        "    template = \"Once upon a time, there was a {}. It lived in a {}. One day, it {}.\"\n",
        "\n",
        "    story = template.format(*keywords)\n",
        "\n",
        "    return story\n",
        "\n",
        "keywords = [\"cat\", \"forest\", \"climbed a tree\"]\n",
        "story = generate_story(keywords)\n",
        "print(story)"
      ],
      "metadata": {
        "colab": {
          "base_uri": "https://localhost:8080/"
        },
        "id": "sLNpJISoCQvI",
        "outputId": "afcaa7cd-ef04-4957-eb03-6616e2131a07"
      },
      "execution_count": 4,
      "outputs": [
        {
          "output_type": "stream",
          "name": "stdout",
          "text": [
            "Once upon a time, there was a cat. It lived in a forest. One day, it climbed a tree.\n"
          ]
        }
      ]
    },
    {
      "cell_type": "code",
      "source": [],
      "metadata": {
        "id": "yUPno9D3Cs-R"
      },
      "execution_count": null,
      "outputs": []
    }
  ]
}