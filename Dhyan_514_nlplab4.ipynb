{
  "nbformat": 4,
  "nbformat_minor": 0,
  "metadata": {
    "colab": {
      "provenance": [],
      "authorship_tag": "ABX9TyNSWt0yafT5saOJSc+UNuOK",
      "include_colab_link": true
    },
    "kernelspec": {
      "name": "python3",
      "display_name": "Python 3"
    },
    "language_info": {
      "name": "python"
    }
  },
  "cells": [
    {
      "cell_type": "markdown",
      "metadata": {
        "id": "view-in-github",
        "colab_type": "text"
      },
      "source": [
        "<a href=\"https://colab.research.google.com/github/dhyannn/NLP/blob/main/Dhyan_514_NLPlab4.ipynb\" target=\"_parent\"><img src=\"https://colab.research.google.com/assets/colab-badge.svg\" alt=\"Open In Colab\"/></a>"
      ]
    },
    {
      "cell_type": "code",
      "source": [
        "nltk.download('wordnet')"
      ],
      "metadata": {
        "colab": {
          "base_uri": "https://localhost:8080/"
        },
        "id": "RNOFEbngRXtr",
        "outputId": "737a3fe8-21a9-4baa-93cd-6195e606feb7"
      },
      "execution_count": 3,
      "outputs": [
        {
          "output_type": "stream",
          "name": "stderr",
          "text": [
            "[nltk_data] Downloading package wordnet to /root/nltk_data...\n"
          ]
        },
        {
          "output_type": "execute_result",
          "data": {
            "text/plain": [
              "True"
            ]
          },
          "metadata": {},
          "execution_count": 3
        }
      ]
    },
    {
      "cell_type": "code",
      "execution_count": 6,
      "metadata": {
        "colab": {
          "base_uri": "https://localhost:8080/"
        },
        "id": "qoD8-bi6QS43",
        "outputId": "6e5443ab-1dcf-4374-a041-bbd9d5e14f25"
      },
      "outputs": [
        {
          "output_type": "stream",
          "name": "stdout",
          "text": [
            "Word: bear\n",
            "a) Meaning: have\n",
            "b) Nouns: ['bear']\n",
            "c) Verbs: ['give_birth', 'wear', 'digest', 'gestate', 'support', 'expect', 'turn_out', 'stick_out', 'birth', 'suffer', 'comport', 'deliver', 'stand', 'contain', 'accept', 'take_over', 'tolerate', 'abide', 'conduct', 'behave', 'hold', 'bear', 'endure', 'yield', 'deport', 'acquit', 'have_a_bun_in_the_oven', 'brook', 'stomach', 'carry', 'assume', 'have', 'put_up', 'pay']\n",
            "d) Adjectives: []\n",
            "e) Adverbs: []\n",
            "f) Definition: massive plantigrade carnivorous or omnivorous mammals with long shaggy coats and strong claws\n",
            "g) Hypernyms: ['allow', 'give_birth', 'let', 'create', 'birth', 'carnivore', 'have_got', 'pull_in', 'deliver', 'take', 'produce', 'realize', 'feature', 'hold', 'bear', 'countenance', 'bring_forth', 'clear', 'bring_in', 'include', 'act', 'permit', 'realise', 'gain', 'move', 'investor', 'carry', 'take_in', 'have', 'earn', 'make', 'transport']\n",
            "h) Hyponyms: ['take_a_joke', 'pup', 'gestate', 'net', 'litter', 'frogmarch', 'sloth_bear', 'Ursus_ursinus', 'overbear', 'sling', 'bear', 'lamb', 'piggyback', 'acquit', 'polar_bear', 'put_forward', 'Ursus_arctos', 'pay_off', 'deal', 'carry-the_can', 'Selenarctos_thibetanus', 'pig', 'comport', 'Euarctos_americanus', 'seed', 'fruit', 'cub', 'Thalarctos_maritimus', 'hold_still_for', 'have_a_bun_in_the_oven', 'hold_in', 'bruin', 'confine', 'spin_off', 'farrow', 'fawn', 'whelp', 'American_black_bear', 'Ursus_thibetanus', 'black_bear', 'stoop', 'retain', 'poise', 'posture', 'accept', 'twin', 'behave', 'crop', 'foal', 'deport', 'clear', 'brown_bear', 'sit_out', 'Melursus_ursinus', 'calve', 'assert', 'carry', 'balance', 'pay', 'bear_cub', 'walk_around', 'expect', 'stand_for', 'drop', 'Ursus_Maritimus', 'live_with', 'kitten', 'bear_up', 'have_young', 'fluster', 'conduct', 'ice_bear', 'Ursus_americanus', 'face_the_music', 'take_lying_down', 'pose', 'enclose', 'swallow', 'Asiatic_black_bear']\n",
            "i) Similarity of Hyponyms: 0.058823529411764705\n",
            "\n",
            "\n",
            "Word: set\n",
            "a) Meaning: several exercises intended to be done in series\n",
            "b) Nouns: ['readiness', 'solidification', 'circle', 'band', 'hardening', 'solidifying', 'Seth', 'set', 'bent', 'Set', 'exercise_set', 'curing', 'lot', 'stage_set']\n",
            "c) Verbs: ['do', 'define', 'fructify', 'correct', 'arrange', 'lay', 'congeal', 'sic', 'rig', 'adjust', 'ready', 'limit', 'localize', 'coif', 'lay_out', 'mark', 'set', 'localise', 'prepare', 'go_under', 'position', 'typeset', 'pose', 'determine', 'coiffe', 'coiffure', 'specify', 'put', 'fix', 'set_up', 'countersink', 'go_down', 'place', 'plant', 'gear_up', 'dress', 'jell']\n",
            "d) Adjectives: []\n",
            "e) Adverbs: []\n",
            "f) Definition: a group of things of the same kind that belong together and are so used\n",
            "g) Hypernyms: ['exercising', 'collection', 'descent', 'set_on', 'impress', 'choose', 'social_group', 'state_of_mind', 'outfit', 'placement', 'solidify', 'inclination', 'playing_period', 'neaten', 'procreate', 'move', 'fix', 'make', 'go_down', 'sink', 'bury', 'fit_out', 'cognitive_state', 'natural_action', 'approximate', 'print', 'guess', 'lay_down', 'physical_exercise', 'select', 'location', 'take', 'compose', 'emplacement', 'locating', 'start', 'groom', 'abstract_entity', 'initiate', 'period_of_play', 'workout', 'assemblage', 'set_up', 'put', 'multiply', 'place', 'activity', 'representation', 'assail', 'positioning', 'electronic_equipment', 'natural_process', 'abstraction', 'aggregation', 'establish', 'fall', 'play', 'assault', 'judge', 'descend', 'hone', 'alter', 'modify', 'attack', 'physical_exertion', 'disposition', 'displace', 'come_down', 'gauge', 'equip', 'correct', 'write', 'gear_up', 'stage', 'change', 'accumulation', 'represent', 'action', 'reproduce', 'arrange', 'exercise', 'lay', 'tendency', 'adjust', 'ready', 'pick_out', 'present', 'set', 'prepare', 'fit', 'position', 'pose', 'originate', 'estimate']\n",
            "h) Hyponyms: ['tax', 'scenery', 'settle', 'car_pool', 'barrel', 'quintet', 'mathematical_space', 'quadruple', 'put_in', 'seat', 'initialize', 'singleton', 'postpose', 'docket', 'core_group', 'pigeonhole', 'underlay', 'inclose', 'set_ahead', 'replace', 'forest', 'party', 'regulate', 'transpose', 'thrust', 'bracket', 'perch', 'sit', 'deposit', 'Cartesian_product', 'confederacy', 'recess', 'triad', 'group', 'posit', 'shelve', 'initialise', 'quintette', 'socialise', 'synset', 'cohort', 'put_down', 'coterie', 'price', 'date', 'range_of_a_function', 'topological_space', 'horsey_set', 'put_back', 'keynote', 'proportion', 'quadruplet', 'universal_set', 'chess_set', 'introduce', 'ingroup', 'snuggle', 'harmonize', 'glycerolise', 'winterize', 'coffin', 'company', 'fix', 'threescore', 'image', 'instal', 'focus', 'time', 'summerise', 'portfolio', 'pressurize', 'summerize', 'sextet', 'superpose', 'appose', 'horsy_set', 'sestet', 'Four_Hundred', 'citify', 'decompress', 'pair', 'sum', 'depressurise', 'camp', 'ship', 'intersection', 'conjugation', 'manicure_set', 'place_upright', 'attune', 'place_down', 'seed', 'septet', 'advance', 'quantify', 'consort', 'dentition', 'throw', 'teeth', 'tree', 'field', 'tune_up', 'join', 'octette', 'mislay', 'space', 'butt', 'null_set', 'lay_over', 'linearize', 'reset', 'linearise', 'subset', 'pack', 'fine-tune', 'stratify', 'root', 'set_up', 'put', 'pressurise', 'modulate', 'place', 'receiving_system', 'jar', 'calibrate', 'dispose', 'coordinate', 'install', 'sit_down', 'match', 'glycerolize', 'filiate', 'domain_of_a_function', 'precondition', 'dibble', 'provide', 'trim', 'tabulate', 'diagonal', 'prepose', 'sow', 'park', 'triple', 'bucket', 'cock', 'set_down', 'graduate', 'temper', 'sextette', 'poise', 'settle_down', 'juxtapose', 'quintuple', 'emplace', 'zero_in', 'wave', 'septette', 'mount', 'plumb', 'pitch', 'receiver', 'crop', 'depressurize', 'nestle', 'align', 'tune', 'format', 'replant', 'trio', 'winterise', 'situate', 'clap', 'tabularize', 'core', 'bob', 'sign', 'lean', 'intersperse', 'product', 'ensconce', 'rest', 'locus', 'focalize', 'readjust', 'stick_in', 'afforest', 'focalise', 'cram', 'recline', 'triplet', 'mathematical_group', 'conspiracy', 'inner_circle', 'plant', 'sender', 'jet_set', 'siphon', 'solution', 'repose', 'load', 'ordinate', 'imbricate', 'rack_up', 'congealment', 'stand_up', 'range', 'charge', 'reposition', 'define', 'work', 'socialize', 'prearrange', 'synchronize', 'parallelize', 'marshal', 'superimpose', 'prime', 'upend', 'name', 'checkrow', 'step', 'ladle', 'sharpen', 'reconcile', 'congelation', 'ground', 'quartette', 'stand', 'arrange', 'lose', 'lay', 'tee', 'quintuplet', 'harmonise', 'transmitter', 'assess', 'nucleus', 'domain', 'bed', 'octet', 'middle', 'value', 'synchronise', 'zero', 'brace', 'quartet', 'clique', 'lay_out', 'pile', 'scene', 'set', 'sync', 'insert', 'interval', 'fit', 'position', 'cultivate', 'tee_up', 'tabularise', 'suite', 'table', 'enclose', 'Mandelbrot_set', 'trench', 'justify', 'score', 'puddle', 'choir', 'misplace', 'union', 'identify', 'pillow', 'bottle']\n",
            "i) Similarity of Hyponyms: 0.0625\n",
            "\n",
            "\n",
            "Word: square\n",
            "a) Meaning: an open area at the meeting of two or more streets\n",
            "b) Nouns: ['square', 'second_power', 'lame', 'public_square', 'square_toes', 'foursquare']\n",
            "c) Verbs: ['square', 'feather', 'square_up']\n",
            "d) Adjectives: ['square', 'straight']\n",
            "e) Adverbs: ['square', 'squarely']\n",
            "f) Definition: (geometry) a plane rectangle with four equal sides and four right angles; a four-sided regular polygon\n",
            "g) Hypernyms: ['agree', 'shape', 'match', 'settle', 'regular_polygon', 'conform', 'artifact', 'tract', 'parcel', 'piece_of_ground', 'tally', 'check', 'adjust', 'adapt', 'jibe', 'gibe', 'rectangle', 'parcel_of_land', 'conservativist', 'piece_of_land', 'paddle', 'conservative', 'fit', 'row', 'form', 'position', 'hand_tool', 'correspond', 'number', 'simple', 'multiply', 'artefact', 'simpleton']\n",
            "h) Hyponyms: [\"carpenter's_square\", 'quadrate', 'piazza', 'T-square', 'square_up', 'even_up', 'jog', 'plaza', 'try_square', 'place']\n",
            "i) Similarity of Hyponyms: 0.05263157894736842\n",
            "\n",
            "\n",
            "Word: lead\n",
            "a) Meaning: evidence pointing to a possible solution\n",
            "b) Nouns: ['tip', 'leading', 'principal', 'spark_advance', 'track', 'lead', 'confidential_information', 'hint', 'star', 'jumper_cable', 'lead-in', 'jumper_lead', 'trail', 'Pb', 'pencil_lead', 'steer', 'lead_story', 'tether', 'lede', 'leash', 'wind', 'atomic_number_82', 'booster_cable']\n",
            "c) Verbs: ['conduce', 'go', 'guide', 'top', 'lead', 'direct', 'result', 'run', 'extend', 'head', 'moderate', 'take', 'chair', 'leave', 'conduct', 'pass', 'precede', 'contribute']\n",
            "d) Adjectives: []\n",
            "e) Adverbs: []\n",
            "f) Definition: an advantage held by a competitor in a race\n",
            "g) Hypernyms: ['cause', 'advantage', 'stimulate', 'jumper', 'get', 'leading', 'wire', 'counselling', 'vantage', 'turn', 'guidance', 'result', 'promote', 'conducting_wire', 'perform', 'do', 'locomote', 'plumbago', 'bring_about', 'leadership', 'encourage', 'player', 'actor', 'go', 'discuss', 'lead', 'direct', 'timing', 'boost', 'play', 'travel', 'thespian', 'advance', 'be', 'produce', 'execute', 'news_story', 'evidence', 'counseling', 'further', 'metallic_element', 'constraint', 'direction', 'angle', 'newspaper_article', 'graphite', 'counsel', 'leave', 'position', 'black_lead', 'give_rise', 'precede', 'hash_out', 'subdivision', 'strip', 'move', 'induce', 'role_player', 'restraint', 'score', 'make_pass', 'have', 'grounds', 'slip', 'make', 'histrion', 'place', 'talk_over', 'metal', 'pass', 'section', 'news_article']\n",
            "h) Hyponyms: ['radiate', 'implicate', 'captain', 'hard_lead', 'idol', 'usher', 'pig_lead', 'movie_star', 'take_hold', 'film_star', 'come', 'hand', 'go_far', 'entail', 'lead', 'misdirect', 'give', 'matinee_idol', 'take_charge', 'clip_lead', 'ray', 'spearhead', 'beacon', 'lead_astray', 'draw_away', 'chairman', 'take_control', 'television_star', 'necessitate', 'head', 'TV_star', 'misguide', 'antimonial_lead', 'go_deep', 'mislead', 'co-star', 'show', 'chair']\n",
            "i) Similarity of Hyponyms: 0.16666666666666666\n",
            "\n",
            "\n",
            "Word: criteria\n",
            "a) Meaning: No such meaning found.\n",
            "b) Nouns: ['standard', 'measure', 'touchstone', 'criterion']\n",
            "c) Verbs: []\n",
            "d) Adjectives: []\n",
            "e) Adverbs: []\n",
            "f) Definition: a basis for comparison; a reference point against which other things can be evaluated\n",
            "g) Hypernyms: ['system_of_measurement', 'metric', 'ideal']\n",
            "h) Hyponyms: ['procrustean_rule', 'procrustean_bed', 'ERA', 'scale', 'standard_of_measurement', 'grade_point_average', 'norm', 'scale_of_measurement', 'graduated_table', 'monetary_system', 'control_condition', 'design_criteria', 'benchmark', 'medium_of_exchange', 'earned_run_average', 'yardstick', 'gauge', 'procrustean_standard', 'baseline', 'ordered_series', 'GPA', 'control']\n",
            "i) Similarity of Hyponyms: 1.0\n",
            "\n",
            "\n"
          ]
        }
      ],
      "source": [
        "import nltk\n",
        "from nltk.corpus import wordnet\n",
        "\n",
        "def get_synonyms(word):\n",
        "    synonyms = []\n",
        "    for syn in wordnet.synsets(word):\n",
        "        for lemma in syn.lemmas():\n",
        "            synonyms.append(lemma.name())\n",
        "    return synonyms\n",
        "\n",
        "def get_meaning(word, index):\n",
        "    synsets = wordnet.synsets(word)\n",
        "    if synsets and index < len(synsets):\n",
        "        return synsets[index].definition()\n",
        "    else:\n",
        "        return \"No such meaning found.\"\n",
        "\n",
        "def get_pos_words(word, pos):\n",
        "    pos_words = set()\n",
        "    for syn in wordnet.synsets(word):\n",
        "        if syn.pos() == pos:\n",
        "            for lemma in syn.lemmas():\n",
        "                pos_words.add(lemma.name())\n",
        "    return list(pos_words)\n",
        "\n",
        "def get_hypernyms(word):\n",
        "    hypernyms = set()\n",
        "    for syn in wordnet.synsets(word):\n",
        "        for hypernym in syn.hypernyms():\n",
        "            for lemma in hypernym.lemmas():\n",
        "                hypernyms.add(lemma.name())\n",
        "    return list(hypernyms)\n",
        "\n",
        "def get_hyponyms(word):\n",
        "    hyponyms = set()\n",
        "    for syn in wordnet.synsets(word):\n",
        "        for hyponym in syn.hyponyms():\n",
        "            for lemma in hyponym.lemmas():\n",
        "                hyponyms.add(lemma.name())\n",
        "    return list(hyponyms)\n",
        "\n",
        "def get_similarity(word1, word2):\n",
        "    synsets1 = wordnet.synsets(word1)\n",
        "    synsets2 = wordnet.synsets(word2)\n",
        "    if synsets1 and synsets2:\n",
        "        similarity = synsets1[0].path_similarity(synsets2[0])\n",
        "        return similarity\n",
        "    else:\n",
        "        return \"No similarity found.\"\n",
        "\n",
        "words = ['bear', 'set', 'square', 'lead', 'criteria']\n",
        "\n",
        "for word in words:\n",
        "    print(\"Word:\", word)\n",
        "    synonyms = get_synonyms(word)\n",
        "    print(\"a) Meaning:\", get_meaning(word, 2))\n",
        "    print(\"b) Nouns:\", get_pos_words(word, 'n'))\n",
        "    print(\"c) Verbs:\", get_pos_words(word, 'v'))\n",
        "    print(\"d) Adjectives:\", get_pos_words(word, 'a'))\n",
        "    print(\"e) Adverbs:\", get_pos_words(word, 'r'))\n",
        "    print(\"f) Definition:\", get_meaning(word, 0))\n",
        "    print(\"g) Hypernyms:\", get_hypernyms(word))\n",
        "    print(\"h) Hyponyms:\", get_hyponyms(word))\n",
        "    hyponyms = get_hyponyms(word)\n",
        "    if len(hyponyms) >= 2:\n",
        "        similarity = get_similarity(hyponyms[0], hyponyms[1])\n",
        "        print(\"i) Similarity of Hyponyms:\", similarity)\n",
        "    else:\n",
        "        print(\"i) Not enough hyponyms to find similarity.\")\n",
        "    print(\"\\n\")\n"
      ]
    }
  ]
}
