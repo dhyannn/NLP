{
  "nbformat": 4,
  "nbformat_minor": 0,
  "metadata": {
    "colab": {
      "provenance": [],
      "authorship_tag": "ABX9TyMAriWVi96Dx39gKu9qMbKd",
      "include_colab_link": true
    },
    "kernelspec": {
      "name": "python3",
      "display_name": "Python 3"
    },
    "language_info": {
      "name": "python"
    }
  },
  "cells": [
    {
      "cell_type": "markdown",
      "metadata": {
        "id": "view-in-github",
        "colab_type": "text"
      },
      "source": [
        "<a href=\"https://colab.research.google.com/github/dhyannn/NLP/blob/main/dhyan_514_nlplab10.ipynb\" target=\"_parent\"><img src=\"https://colab.research.google.com/assets/colab-badge.svg\" alt=\"Open In Colab\"/></a>"
      ]
    },
    {
      "cell_type": "code",
      "source": [
        "import nltk\n",
        "nltk.download('punkt')\n",
        "nltk.download('stopwords')\n",
        "nltk.download('wordnet')"
      ],
      "metadata": {
        "colab": {
          "base_uri": "https://localhost:8080/"
        },
        "id": "PIUjSVWtB-ui",
        "outputId": "c7fd32b6-1ba5-432e-e5a5-4c12cdb1eb0b"
      },
      "execution_count": 17,
      "outputs": [
        {
          "output_type": "stream",
          "name": "stderr",
          "text": [
            "[nltk_data] Downloading package punkt to /root/nltk_data...\n",
            "[nltk_data]   Package punkt is already up-to-date!\n",
            "[nltk_data] Downloading package stopwords to /root/nltk_data...\n",
            "[nltk_data]   Package stopwords is already up-to-date!\n",
            "[nltk_data] Downloading package wordnet to /root/nltk_data...\n"
          ]
        },
        {
          "output_type": "execute_result",
          "data": {
            "text/plain": [
              "True"
            ]
          },
          "metadata": {},
          "execution_count": 17
        }
      ]
    },
    {
      "cell_type": "code",
      "execution_count": 11,
      "metadata": {
        "id": "Iodsgp2VBMpk"
      },
      "outputs": [],
      "source": [
        "import nltk\n",
        "from nltk.corpus import stopwords\n",
        "from nltk.tokenize import word_tokenize, sent_tokenize\n",
        "from nltk.stem import WordNetLemmatizer\n",
        "from nltk.corpus import wordnet"
      ]
    },
    {
      "cell_type": "code",
      "source": [
        "context = \"\"\"\n",
        "CHRIST (Deemed to be University) was born out of the educational\n",
        "vision of St Kuriakose Elias Chavara, an educationalist and social reformer of\n",
        "the nineteenth century in South India. He founded the first Catholic\n",
        "indigenous congregation, Carmelites of Mary Immaculate (CMI), in 1831\n",
        "which administers CHRIST (Deemed to be University). “CHRIST (Deemed to\n",
        "\n",
        "be University) was established as ‘Christ College’ in 1969. It undertook path-\n",
        "breaking initiatives in Indian higher education with the introduction of\n",
        "\n",
        "innovative and modern curricula, insistence on academic discipline,\n",
        "imparting of Holistic Education and adoption of global higher education\n",
        "practices with the support of creative and dedicated staff.”\n",
        "\"\"\""
      ],
      "metadata": {
        "id": "hFWonpCwBOBz"
      },
      "execution_count": 12,
      "outputs": []
    },
    {
      "cell_type": "code",
      "source": [
        "sentences = sent_tokenize(context)"
      ],
      "metadata": {
        "id": "Vf48PkE_BViR"
      },
      "execution_count": 13,
      "outputs": []
    },
    {
      "cell_type": "code",
      "source": [
        "words = word_tokenize(context)"
      ],
      "metadata": {
        "id": "gnx1UxHiBamg"
      },
      "execution_count": 14,
      "outputs": []
    },
    {
      "cell_type": "code",
      "source": [
        "# Remove stop words\n",
        "stop_words = set(stopwords.words('english'))\n",
        "filtered_words = [word for word in words if word.lower() not in stop_words]"
      ],
      "metadata": {
        "id": "_7dnJCt4BaiR"
      },
      "execution_count": 15,
      "outputs": []
    },
    {
      "cell_type": "code",
      "source": [
        "# Lemmatize the words\n",
        "lemmatizer = WordNetLemmatizer()\n",
        "lemmatized_words = [lemmatizer.lemmatize(word, pos=wordnet.VERB) for word in filtered_words]"
      ],
      "metadata": {
        "id": "hrAkKNeoBags"
      },
      "execution_count": 18,
      "outputs": []
    },
    {
      "cell_type": "code",
      "source": [
        "# Create a dictionary of word frequencies\n",
        "word_freq = nltk.FreqDist(lemmatized_words)"
      ],
      "metadata": {
        "id": "ulgkDxsUBadR"
      },
      "execution_count": 19,
      "outputs": []
    },
    {
      "cell_type": "code",
      "source": [
        "def answer_question(question):\n",
        "    # Tokenize the question\n",
        "    question_words = word_tokenize(question)\n",
        "    # Lemmatize the question\n",
        "    lemmatized_question = [lemmatizer.lemmatize(word, pos=wordnet.VERB) for word in question_words]\n",
        "\n",
        "    # Initialize variables for the highest scoring sentence and its score\n",
        "    best_sentence = \"\"\n",
        "    best_score = 0\n",
        "\n",
        "    # Loop through each sentence in the context\n",
        "    for sentence in sentences:\n",
        "        score = 0\n",
        "        # Loop through each word in the lemmatized question\n",
        "        for word in lemmatized_question:\n",
        "            # Increment the score if the word is found in the sentence\n",
        "            if word in sentence:\n",
        "                score += word_freq[word]\n",
        "        # If the score for this sentence is higher than the previous best, update the best sentence and score\n",
        "        if score > best_score:\n",
        "            best_sentence = sentence\n",
        "            best_score = score\n",
        "\n",
        "    return best_sentence"
      ],
      "metadata": {
        "id": "HbVyh_ODBab6"
      },
      "execution_count": 20,
      "outputs": []
    },
    {
      "cell_type": "code",
      "source": [
        "# Sample question\n",
        "question = \"Which year CHRIST university established?\"\n",
        "# Get the answer\n",
        "answer = answer_question(question)\n",
        "print(\"Answer:\", answer)"
      ],
      "metadata": {
        "colab": {
          "base_uri": "https://localhost:8080/"
        },
        "id": "rCsLovUnB1OA",
        "outputId": "401850f1-3f5a-4ce7-a38b-7a7bcb577564"
      },
      "execution_count": 23,
      "outputs": [
        {
          "output_type": "stream",
          "name": "stdout",
          "text": [
            "Answer: \n",
            "CHRIST (Deemed to be University) was born out of the educational\n",
            "vision of St Kuriakose Elias Chavara, an educationalist and social reformer of\n",
            "the nineteenth century in South India.\n"
          ]
        }
      ]
    },
    {
      "cell_type": "code",
      "source": [
        "\n"
      ],
      "metadata": {
        "id": "uaoGP_EkB1LH"
      },
      "execution_count": null,
      "outputs": []
    }
  ]
}